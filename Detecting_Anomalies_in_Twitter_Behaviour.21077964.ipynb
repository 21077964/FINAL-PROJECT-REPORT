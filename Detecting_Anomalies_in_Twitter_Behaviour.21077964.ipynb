{
  "cells": [
    {
      "cell_type": "markdown",
      "metadata": {
        "id": "view-in-github",
        "colab_type": "text"
      },
      "source": [
        "<a href=\"https://colab.research.google.com/github/21077964/FINAL-PROJECT-REPORT/blob/main/Detecting_Anomalies_in_Twitter_Behaviour.21077964.ipynb\" target=\"_parent\"><img src=\"https://colab.research.google.com/assets/colab-badge.svg\" alt=\"Open In Colab\"/></a>"
      ]
    },
    {
      "cell_type": "markdown",
      "id": "4e6c8394-8566-4ee3-a331-fb31f2bc76e6",
      "metadata": {
        "id": "4e6c8394-8566-4ee3-a331-fb31f2bc76e6"
      },
      "source": [
        "# Detecting Anomalies in Twitter Behaviour\n",
        "\n",
        "### Aims and Objectives:\n",
        "#### Aims:\n",
        "    1. Analyze patterns of user behavior on Twitter to identify anomalies.\n",
        "    2. Develop advanced data-driven algorithms for detecting anomalies in Twitter user interactions and content dissemination.\n",
        "    3. Validate algorithm effectiveness through rigorous testing against known anomalies and real-world data.\n",
        "#### Objectives:\n",
        "    1. Collect and preprocess Twitter data, focusing on user interactions and engagement metrics.\n",
        "    2. Conduct exploratory data analysis (EDA) to understand normal and anomalous behavior patterns.\n",
        "    3. Implement machine learning algorithms suitable for anomaly detection in Twitter data.\n",
        "    4. Evaluate algorithm performance using precision, recall, and F1-score metrics.\n",
        "    5. Apply validated algorithms to real-world scenarios to assess scalability and practical utility.\n",
        "    6. Address ethical considerations related to data privacy and responsible data usage.\n",
        "### Research Question\n",
        "    • How can data-driven algorithms be developed to effectively detect anomalies in Twitter user behaviour?"
      ]
    },
    {
      "cell_type": "code",
      "source": [
        "import os"
      ],
      "metadata": {
        "id": "N-JCh8b1xCHR"
      },
      "id": "N-JCh8b1xCHR",
      "execution_count": 90,
      "outputs": []
    },
    {
      "cell_type": "markdown",
      "id": "8a77155c-974b-49fe-ad17-0d4075e76838",
      "metadata": {
        "id": "8a77155c-974b-49fe-ad17-0d4075e76838"
      },
      "source": [
        "#  Environment Setup"
      ]
    },
    {
      "cell_type": "code",
      "execution_count": 91,
      "id": "afe30fda-9b69-46c7-bdfb-40b2f738b6ce",
      "metadata": {
        "id": "afe30fda-9b69-46c7-bdfb-40b2f738b6ce"
      },
      "outputs": [],
      "source": [
        "import warnings\n",
        "\n",
        "# Ignore specific types of warnings\n",
        "warnings.filterwarnings(\"ignore\", category=FutureWarning)\n",
        "warnings.filterwarnings(\"ignore\", category=RuntimeWarning)\n",
        "warnings.filterwarnings(\"ignore\", category=UserWarning)\n",
        "\n",
        "\n",
        "\n",
        "# Data manipulation and analysis\n",
        "import pandas as pd\n",
        "import numpy as np\n",
        "import os\n",
        "\n",
        "# Data visualization\n",
        "import matplotlib.pyplot as plt\n",
        "import seaborn as sns\n",
        "\n",
        "# Text processing and natural language processing\n",
        "import re\n",
        "import string\n",
        "from sklearn.feature_extraction.text import TfidfVectorizer\n",
        "from nltk.corpus import stopwords\n",
        "from nltk.tokenize import word_tokenize\n",
        "\n",
        "# Machine learning\n",
        "from sklearn.model_selection import train_test_split\n",
        "from sklearn.preprocessing import StandardScaler\n",
        "from sklearn.ensemble import IsolationForest, RandomForestClassifier,GradientBoostingClassifier\n",
        "from sklearn.cluster import DBSCAN\n",
        "from sklearn.svm import OneClassSVM\n",
        "\n",
        "\n",
        "# Model evaluation\n",
        "from sklearn.metrics import classification_report, confusion_matrix, accuracy_score\n",
        "\n",
        "from sklearn.feature_selection import VarianceThreshold\n",
        "from sklearn.feature_selection import SelectKBest, f_classif\n",
        "\n",
        "# Utility\n",
        "import warnings\n",
        "warnings.filterwarnings('ignore')\n",
        "# Ignore SettingWithCopyWarning\n",
        "warnings.filterwarnings(\"ignore\", category=pd.errors.SettingWithCopyWarning)\n",
        "\n"
      ]
    },
    {
      "cell_type": "markdown",
      "id": "8ae6af61-0915-41c0-b204-7ac8e4e5854e",
      "metadata": {
        "id": "8ae6af61-0915-41c0-b204-7ac8e4e5854e"
      },
      "source": [
        "# Data Loading from Kaggle"
      ]
    },
    {
      "cell_type": "code",
      "execution_count": 92,
      "id": "3945e0d9-3523-4836-ab06-7d34749f0c13",
      "metadata": {
        "colab": {
          "base_uri": "https://localhost:8080/"
        },
        "id": "3945e0d9-3523-4836-ab06-7d34749f0c13",
        "outputId": "6b8325a2-b6d5-403e-e113-e05a7001025f"
      },
      "outputs": [
        {
          "output_type": "execute_result",
          "data": {
            "text/plain": [
              "0"
            ]
          },
          "metadata": {},
          "execution_count": 92
        }
      ],
      "source": [
        " #Data Loading from Kaggle\n",
        "# Download the dataset (replace with the specific dataset you want to use)\n",
        "os.system('kaggle datasets download -d kazanova/sentiment140')"
      ]
    },
    {
      "cell_type": "code",
      "execution_count": 93,
      "id": "5a8ac973-d443-4c5a-aa40-8c54ab896046",
      "metadata": {
        "colab": {
          "base_uri": "https://localhost:8080/"
        },
        "id": "5a8ac973-d443-4c5a-aa40-8c54ab896046",
        "outputId": "30d6df3e-7bab-48a4-871b-21f5d7809611"
      },
      "outputs": [
        {
          "output_type": "execute_result",
          "data": {
            "text/plain": [
              "256"
            ]
          },
          "metadata": {},
          "execution_count": 93
        }
      ],
      "source": [
        "# Unzip the dataset\n",
        "os.system('unzip sentiment140.zip')"
      ]
    },
    {
      "cell_type": "code",
      "execution_count": 94,
      "id": "4f24b3b7-b3c2-4049-8138-1e7b63f246bc",
      "metadata": {
        "id": "4f24b3b7-b3c2-4049-8138-1e7b63f246bc"
      },
      "outputs": [],
      "source": [
        "# Load the dataset\n",
        "data = pd.read_csv('training.1600000.processed.noemoticon.csv',\n",
        "                   encoding='ISO-8859-1', header=None)\n",
        "\n"
      ]
    },
    {
      "cell_type": "markdown",
      "id": "ade13ba8-c153-4df8-9cec-7cda1c68200c",
      "metadata": {
        "id": "ade13ba8-c153-4df8-9cec-7cda1c68200c"
      },
      "source": [
        "# Data Preprocessing"
      ]
    },
    {
      "cell_type": "code",
      "execution_count": 95,
      "id": "74e50008-e4ab-4b81-9408-36a8c3bcca41",
      "metadata": {
        "id": "74e50008-e4ab-4b81-9408-36a8c3bcca41"
      },
      "outputs": [],
      "source": [
        "# Adding column names to the dataset\n",
        "data.columns = ['target', 'ids', 'date', 'flag', 'user', 'text']"
      ]
    },
    {
      "cell_type": "code",
      "execution_count": 96,
      "id": "afdb6e32-4576-4993-afe7-46ed06e6c20a",
      "metadata": {
        "colab": {
          "base_uri": "https://localhost:8080/"
        },
        "id": "afdb6e32-4576-4993-afe7-46ed06e6c20a",
        "outputId": "669f106e-7b5c-43dd-aea6-6c455105e444"
      },
      "outputs": [
        {
          "output_type": "execute_result",
          "data": {
            "text/plain": [
              "Index(['target', 'ids', 'date', 'flag', 'user', 'text'], dtype='object')"
            ]
          },
          "metadata": {},
          "execution_count": 96
        }
      ],
      "source": [
        "data.columns"
      ]
    },
    {
      "cell_type": "code",
      "execution_count": 97,
      "id": "fac0f668-5d46-4113-9a1a-8e3c06e63355",
      "metadata": {
        "id": "fac0f668-5d46-4113-9a1a-8e3c06e63355"
      },
      "outputs": [],
      "source": [
        "data['date'] = pd.to_datetime(data['date'], errors='coerce')"
      ]
    },
    {
      "cell_type": "code",
      "execution_count": 98,
      "id": "e82b2176-e095-4cf3-a271-bf51ff866436",
      "metadata": {
        "id": "e82b2176-e095-4cf3-a271-bf51ff866436"
      },
      "outputs": [],
      "source": [
        "data['Day of Week'] = data['date'].dt.day_name()\n",
        "data['Hour'] = data['date'].dt.hour\n",
        "\n",
        "data.drop(columns=['date'],inplace=True)"
      ]
    },
    {
      "cell_type": "code",
      "execution_count": 99,
      "id": "9dec17a5-0cea-4760-911a-af375c9eea04",
      "metadata": {
        "id": "9dec17a5-0cea-4760-911a-af375c9eea04",
        "outputId": "6bf4ef68-bf69-47d7-85e1-db1cd2664db8",
        "colab": {
          "base_uri": "https://localhost:8080/"
        }
      },
      "outputs": [
        {
          "output_type": "execute_result",
          "data": {
            "text/plain": [
              "array([0, 4])"
            ]
          },
          "metadata": {},
          "execution_count": 99
        }
      ],
      "source": [
        "data['target'].unique()"
      ]
    },
    {
      "cell_type": "code",
      "execution_count": 100,
      "id": "e4fe0111-fe20-42a0-bdf7-e7e1f71a1ae4",
      "metadata": {
        "id": "e4fe0111-fe20-42a0-bdf7-e7e1f71a1ae4"
      },
      "outputs": [],
      "source": [
        "data1 = data.iloc[:10000]"
      ]
    },
    {
      "cell_type": "code",
      "execution_count": 101,
      "id": "2608d34b-76cd-41e1-b8d7-ffe53451c98e",
      "metadata": {
        "id": "2608d34b-76cd-41e1-b8d7-ffe53451c98e"
      },
      "outputs": [],
      "source": [
        "data2 = data.tail(10000)"
      ]
    },
    {
      "cell_type": "code",
      "execution_count": 102,
      "id": "bb5e03e0-4374-4969-97d1-051694f84f65",
      "metadata": {
        "id": "bb5e03e0-4374-4969-97d1-051694f84f65"
      },
      "outputs": [],
      "source": [
        "data = pd.concat([data1, data2], axis=0)"
      ]
    },
    {
      "cell_type": "code",
      "execution_count": 103,
      "id": "7cb3483a-1acb-431f-a070-109566ed2296",
      "metadata": {
        "id": "7cb3483a-1acb-431f-a070-109566ed2296",
        "outputId": "e1276921-838a-4bc5-a827-0d401e43b93d",
        "colab": {
          "base_uri": "https://localhost:8080/"
        }
      },
      "outputs": [
        {
          "output_type": "execute_result",
          "data": {
            "text/plain": [
              "array([0, 4])"
            ]
          },
          "metadata": {},
          "execution_count": 103
        }
      ],
      "source": [
        "data['target'].unique()"
      ]
    },
    {
      "cell_type": "code",
      "execution_count": 104,
      "id": "e40f63d7-79fc-4343-975c-8d35bc5a9c3d",
      "metadata": {
        "id": "e40f63d7-79fc-4343-975c-8d35bc5a9c3d"
      },
      "outputs": [],
      "source": [
        "import re\n",
        "import string\n",
        "from nltk.corpus import stopwords\n",
        "def clean_text(text):\n",
        "    text = text.lower()  # convert to lowercase\n",
        "    text = re.sub(r'\\[.*?\\]', '', text)  # remove text in square brackets\n",
        "    text = re.sub(r'https?://\\S+|www\\.\\S+', '', text)  # remove URLs\n",
        "    text = re.sub(r'<.*?>+', '', text)  # remove HTML tags\n",
        "    text = re.sub(r'[%s]' % re.escape(string.punctuation), '', text)  # remove punctuation\n",
        "    text = re.sub(r'\\n', '', text)  # remove newline characters\n",
        "    text = re.sub(r'\\w*\\d\\w*', '', text)  # remove words containing numbers\n",
        "    text = ' '.join(word for word in text.split() if word not in stopwords.words('english'))  # remove stopwords\n",
        "    return text"
      ]
    },
    {
      "cell_type": "code",
      "execution_count": 105,
      "id": "df8aa37b-d4af-44ed-bb7a-2292745e523c",
      "metadata": {
        "id": "df8aa37b-d4af-44ed-bb7a-2292745e523c",
        "colab": {
          "base_uri": "https://localhost:8080/"
        },
        "outputId": "7f99b9ad-2b97-41f2-ae2e-11a77564091f"
      },
      "outputs": [
        {
          "output_type": "stream",
          "name": "stderr",
          "text": [
            "[nltk_data] Downloading package stopwords to /root/nltk_data...\n",
            "[nltk_data]   Package stopwords is already up-to-date!\n"
          ]
        }
      ],
      "source": [
        "# Download the stopwords dataset\n",
        "import nltk\n",
        "nltk.download('stopwords')\n",
        "data['Cleaned Tweets'] = data['text'].apply(lambda x: clean_text(x))"
      ]
    },
    {
      "cell_type": "code",
      "execution_count": 106,
      "id": "b663028e-2dc6-4c3a-a488-430cc63c2489",
      "metadata": {
        "id": "b663028e-2dc6-4c3a-a488-430cc63c2489",
        "outputId": "42496262-97af-47d9-c049-f910ac915423",
        "colab": {
          "base_uri": "https://localhost:8080/",
          "height": 293
        }
      },
      "outputs": [
        {
          "output_type": "execute_result",
          "data": {
            "text/plain": [
              "   target         ids      flag             user  \\\n",
              "0       0  1467810369  NO_QUERY  _TheSpecialOne_   \n",
              "1       0  1467810672  NO_QUERY    scotthamilton   \n",
              "2       0  1467810917  NO_QUERY         mattycus   \n",
              "3       0  1467811184  NO_QUERY          ElleCTF   \n",
              "4       0  1467811193  NO_QUERY           Karoli   \n",
              "\n",
              "                                                text Day of Week  Hour  \\\n",
              "0  @switchfoot http://twitpic.com/2y1zl - Awww, t...      Monday    22   \n",
              "1  is upset that he can't update his Facebook by ...      Monday    22   \n",
              "2  @Kenichan I dived many times for the ball. Man...      Monday    22   \n",
              "3    my whole body feels itchy and like its on fire       Monday    22   \n",
              "4  @nationwideclass no, it's not behaving at all....      Monday    22   \n",
              "\n",
              "                                      Cleaned Tweets  \n",
              "0  switchfoot awww thats bummer shoulda got david...  \n",
              "1  upset cant update facebook texting might cry r...  \n",
              "2  kenichan dived many times ball managed save re...  \n",
              "3                   whole body feels itchy like fire  \n",
              "4           nationwideclass behaving im mad cant see  "
            ],
            "text/html": [
              "\n",
              "  <div id=\"df-573c3c0e-8bdb-4786-b0aa-52def134aec9\" class=\"colab-df-container\">\n",
              "    <div>\n",
              "<style scoped>\n",
              "    .dataframe tbody tr th:only-of-type {\n",
              "        vertical-align: middle;\n",
              "    }\n",
              "\n",
              "    .dataframe tbody tr th {\n",
              "        vertical-align: top;\n",
              "    }\n",
              "\n",
              "    .dataframe thead th {\n",
              "        text-align: right;\n",
              "    }\n",
              "</style>\n",
              "<table border=\"1\" class=\"dataframe\">\n",
              "  <thead>\n",
              "    <tr style=\"text-align: right;\">\n",
              "      <th></th>\n",
              "      <th>target</th>\n",
              "      <th>ids</th>\n",
              "      <th>flag</th>\n",
              "      <th>user</th>\n",
              "      <th>text</th>\n",
              "      <th>Day of Week</th>\n",
              "      <th>Hour</th>\n",
              "      <th>Cleaned Tweets</th>\n",
              "    </tr>\n",
              "  </thead>\n",
              "  <tbody>\n",
              "    <tr>\n",
              "      <th>0</th>\n",
              "      <td>0</td>\n",
              "      <td>1467810369</td>\n",
              "      <td>NO_QUERY</td>\n",
              "      <td>_TheSpecialOne_</td>\n",
              "      <td>@switchfoot http://twitpic.com/2y1zl - Awww, t...</td>\n",
              "      <td>Monday</td>\n",
              "      <td>22</td>\n",
              "      <td>switchfoot awww thats bummer shoulda got david...</td>\n",
              "    </tr>\n",
              "    <tr>\n",
              "      <th>1</th>\n",
              "      <td>0</td>\n",
              "      <td>1467810672</td>\n",
              "      <td>NO_QUERY</td>\n",
              "      <td>scotthamilton</td>\n",
              "      <td>is upset that he can't update his Facebook by ...</td>\n",
              "      <td>Monday</td>\n",
              "      <td>22</td>\n",
              "      <td>upset cant update facebook texting might cry r...</td>\n",
              "    </tr>\n",
              "    <tr>\n",
              "      <th>2</th>\n",
              "      <td>0</td>\n",
              "      <td>1467810917</td>\n",
              "      <td>NO_QUERY</td>\n",
              "      <td>mattycus</td>\n",
              "      <td>@Kenichan I dived many times for the ball. Man...</td>\n",
              "      <td>Monday</td>\n",
              "      <td>22</td>\n",
              "      <td>kenichan dived many times ball managed save re...</td>\n",
              "    </tr>\n",
              "    <tr>\n",
              "      <th>3</th>\n",
              "      <td>0</td>\n",
              "      <td>1467811184</td>\n",
              "      <td>NO_QUERY</td>\n",
              "      <td>ElleCTF</td>\n",
              "      <td>my whole body feels itchy and like its on fire</td>\n",
              "      <td>Monday</td>\n",
              "      <td>22</td>\n",
              "      <td>whole body feels itchy like fire</td>\n",
              "    </tr>\n",
              "    <tr>\n",
              "      <th>4</th>\n",
              "      <td>0</td>\n",
              "      <td>1467811193</td>\n",
              "      <td>NO_QUERY</td>\n",
              "      <td>Karoli</td>\n",
              "      <td>@nationwideclass no, it's not behaving at all....</td>\n",
              "      <td>Monday</td>\n",
              "      <td>22</td>\n",
              "      <td>nationwideclass behaving im mad cant see</td>\n",
              "    </tr>\n",
              "  </tbody>\n",
              "</table>\n",
              "</div>\n",
              "    <div class=\"colab-df-buttons\">\n",
              "\n",
              "  <div class=\"colab-df-container\">\n",
              "    <button class=\"colab-df-convert\" onclick=\"convertToInteractive('df-573c3c0e-8bdb-4786-b0aa-52def134aec9')\"\n",
              "            title=\"Convert this dataframe to an interactive table.\"\n",
              "            style=\"display:none;\">\n",
              "\n",
              "  <svg xmlns=\"http://www.w3.org/2000/svg\" height=\"24px\" viewBox=\"0 -960 960 960\">\n",
              "    <path d=\"M120-120v-720h720v720H120Zm60-500h600v-160H180v160Zm220 220h160v-160H400v160Zm0 220h160v-160H400v160ZM180-400h160v-160H180v160Zm440 0h160v-160H620v160ZM180-180h160v-160H180v160Zm440 0h160v-160H620v160Z\"/>\n",
              "  </svg>\n",
              "    </button>\n",
              "\n",
              "  <style>\n",
              "    .colab-df-container {\n",
              "      display:flex;\n",
              "      gap: 12px;\n",
              "    }\n",
              "\n",
              "    .colab-df-convert {\n",
              "      background-color: #E8F0FE;\n",
              "      border: none;\n",
              "      border-radius: 50%;\n",
              "      cursor: pointer;\n",
              "      display: none;\n",
              "      fill: #1967D2;\n",
              "      height: 32px;\n",
              "      padding: 0 0 0 0;\n",
              "      width: 32px;\n",
              "    }\n",
              "\n",
              "    .colab-df-convert:hover {\n",
              "      background-color: #E2EBFA;\n",
              "      box-shadow: 0px 1px 2px rgba(60, 64, 67, 0.3), 0px 1px 3px 1px rgba(60, 64, 67, 0.15);\n",
              "      fill: #174EA6;\n",
              "    }\n",
              "\n",
              "    .colab-df-buttons div {\n",
              "      margin-bottom: 4px;\n",
              "    }\n",
              "\n",
              "    [theme=dark] .colab-df-convert {\n",
              "      background-color: #3B4455;\n",
              "      fill: #D2E3FC;\n",
              "    }\n",
              "\n",
              "    [theme=dark] .colab-df-convert:hover {\n",
              "      background-color: #434B5C;\n",
              "      box-shadow: 0px 1px 3px 1px rgba(0, 0, 0, 0.15);\n",
              "      filter: drop-shadow(0px 1px 2px rgba(0, 0, 0, 0.3));\n",
              "      fill: #FFFFFF;\n",
              "    }\n",
              "  </style>\n",
              "\n",
              "    <script>\n",
              "      const buttonEl =\n",
              "        document.querySelector('#df-573c3c0e-8bdb-4786-b0aa-52def134aec9 button.colab-df-convert');\n",
              "      buttonEl.style.display =\n",
              "        google.colab.kernel.accessAllowed ? 'block' : 'none';\n",
              "\n",
              "      async function convertToInteractive(key) {\n",
              "        const element = document.querySelector('#df-573c3c0e-8bdb-4786-b0aa-52def134aec9');\n",
              "        const dataTable =\n",
              "          await google.colab.kernel.invokeFunction('convertToInteractive',\n",
              "                                                    [key], {});\n",
              "        if (!dataTable) return;\n",
              "\n",
              "        const docLinkHtml = 'Like what you see? Visit the ' +\n",
              "          '<a target=\"_blank\" href=https://colab.research.google.com/notebooks/data_table.ipynb>data table notebook</a>'\n",
              "          + ' to learn more about interactive tables.';\n",
              "        element.innerHTML = '';\n",
              "        dataTable['output_type'] = 'display_data';\n",
              "        await google.colab.output.renderOutput(dataTable, element);\n",
              "        const docLink = document.createElement('div');\n",
              "        docLink.innerHTML = docLinkHtml;\n",
              "        element.appendChild(docLink);\n",
              "      }\n",
              "    </script>\n",
              "  </div>\n",
              "\n",
              "\n",
              "<div id=\"df-8377b0c7-e9da-4adf-b622-4a1acf0bc19d\">\n",
              "  <button class=\"colab-df-quickchart\" onclick=\"quickchart('df-8377b0c7-e9da-4adf-b622-4a1acf0bc19d')\"\n",
              "            title=\"Suggest charts\"\n",
              "            style=\"display:none;\">\n",
              "\n",
              "<svg xmlns=\"http://www.w3.org/2000/svg\" height=\"24px\"viewBox=\"0 0 24 24\"\n",
              "     width=\"24px\">\n",
              "    <g>\n",
              "        <path d=\"M19 3H5c-1.1 0-2 .9-2 2v14c0 1.1.9 2 2 2h14c1.1 0 2-.9 2-2V5c0-1.1-.9-2-2-2zM9 17H7v-7h2v7zm4 0h-2V7h2v10zm4 0h-2v-4h2v4z\"/>\n",
              "    </g>\n",
              "</svg>\n",
              "  </button>\n",
              "\n",
              "<style>\n",
              "  .colab-df-quickchart {\n",
              "      --bg-color: #E8F0FE;\n",
              "      --fill-color: #1967D2;\n",
              "      --hover-bg-color: #E2EBFA;\n",
              "      --hover-fill-color: #174EA6;\n",
              "      --disabled-fill-color: #AAA;\n",
              "      --disabled-bg-color: #DDD;\n",
              "  }\n",
              "\n",
              "  [theme=dark] .colab-df-quickchart {\n",
              "      --bg-color: #3B4455;\n",
              "      --fill-color: #D2E3FC;\n",
              "      --hover-bg-color: #434B5C;\n",
              "      --hover-fill-color: #FFFFFF;\n",
              "      --disabled-bg-color: #3B4455;\n",
              "      --disabled-fill-color: #666;\n",
              "  }\n",
              "\n",
              "  .colab-df-quickchart {\n",
              "    background-color: var(--bg-color);\n",
              "    border: none;\n",
              "    border-radius: 50%;\n",
              "    cursor: pointer;\n",
              "    display: none;\n",
              "    fill: var(--fill-color);\n",
              "    height: 32px;\n",
              "    padding: 0;\n",
              "    width: 32px;\n",
              "  }\n",
              "\n",
              "  .colab-df-quickchart:hover {\n",
              "    background-color: var(--hover-bg-color);\n",
              "    box-shadow: 0 1px 2px rgba(60, 64, 67, 0.3), 0 1px 3px 1px rgba(60, 64, 67, 0.15);\n",
              "    fill: var(--button-hover-fill-color);\n",
              "  }\n",
              "\n",
              "  .colab-df-quickchart-complete:disabled,\n",
              "  .colab-df-quickchart-complete:disabled:hover {\n",
              "    background-color: var(--disabled-bg-color);\n",
              "    fill: var(--disabled-fill-color);\n",
              "    box-shadow: none;\n",
              "  }\n",
              "\n",
              "  .colab-df-spinner {\n",
              "    border: 2px solid var(--fill-color);\n",
              "    border-color: transparent;\n",
              "    border-bottom-color: var(--fill-color);\n",
              "    animation:\n",
              "      spin 1s steps(1) infinite;\n",
              "  }\n",
              "\n",
              "  @keyframes spin {\n",
              "    0% {\n",
              "      border-color: transparent;\n",
              "      border-bottom-color: var(--fill-color);\n",
              "      border-left-color: var(--fill-color);\n",
              "    }\n",
              "    20% {\n",
              "      border-color: transparent;\n",
              "      border-left-color: var(--fill-color);\n",
              "      border-top-color: var(--fill-color);\n",
              "    }\n",
              "    30% {\n",
              "      border-color: transparent;\n",
              "      border-left-color: var(--fill-color);\n",
              "      border-top-color: var(--fill-color);\n",
              "      border-right-color: var(--fill-color);\n",
              "    }\n",
              "    40% {\n",
              "      border-color: transparent;\n",
              "      border-right-color: var(--fill-color);\n",
              "      border-top-color: var(--fill-color);\n",
              "    }\n",
              "    60% {\n",
              "      border-color: transparent;\n",
              "      border-right-color: var(--fill-color);\n",
              "    }\n",
              "    80% {\n",
              "      border-color: transparent;\n",
              "      border-right-color: var(--fill-color);\n",
              "      border-bottom-color: var(--fill-color);\n",
              "    }\n",
              "    90% {\n",
              "      border-color: transparent;\n",
              "      border-bottom-color: var(--fill-color);\n",
              "    }\n",
              "  }\n",
              "</style>\n",
              "\n",
              "  <script>\n",
              "    async function quickchart(key) {\n",
              "      const quickchartButtonEl =\n",
              "        document.querySelector('#' + key + ' button');\n",
              "      quickchartButtonEl.disabled = true;  // To prevent multiple clicks.\n",
              "      quickchartButtonEl.classList.add('colab-df-spinner');\n",
              "      try {\n",
              "        const charts = await google.colab.kernel.invokeFunction(\n",
              "            'suggestCharts', [key], {});\n",
              "      } catch (error) {\n",
              "        console.error('Error during call to suggestCharts:', error);\n",
              "      }\n",
              "      quickchartButtonEl.classList.remove('colab-df-spinner');\n",
              "      quickchartButtonEl.classList.add('colab-df-quickchart-complete');\n",
              "    }\n",
              "    (() => {\n",
              "      let quickchartButtonEl =\n",
              "        document.querySelector('#df-8377b0c7-e9da-4adf-b622-4a1acf0bc19d button');\n",
              "      quickchartButtonEl.style.display =\n",
              "        google.colab.kernel.accessAllowed ? 'block' : 'none';\n",
              "    })();\n",
              "  </script>\n",
              "</div>\n",
              "\n",
              "    </div>\n",
              "  </div>\n"
            ],
            "application/vnd.google.colaboratory.intrinsic+json": {
              "type": "dataframe",
              "variable_name": "data",
              "summary": "{\n  \"name\": \"data\",\n  \"rows\": 20000,\n  \"fields\": [\n    {\n      \"column\": \"target\",\n      \"properties\": {\n        \"dtype\": \"number\",\n        \"std\": 2,\n        \"min\": 0,\n        \"max\": 4,\n        \"num_unique_values\": 2,\n        \"samples\": [\n          4,\n          0\n        ],\n        \"semantic_type\": \"\",\n        \"description\": \"\"\n      }\n    },\n    {\n      \"column\": \"ids\",\n      \"properties\": {\n        \"dtype\": \"number\",\n        \"std\": 356593748,\n        \"min\": 1467810369,\n        \"max\": 2193602129,\n        \"num_unique_values\": 20000,\n        \"samples\": [\n          2191434431,\n          1468290988\n        ],\n        \"semantic_type\": \"\",\n        \"description\": \"\"\n      }\n    },\n    {\n      \"column\": \"flag\",\n      \"properties\": {\n        \"dtype\": \"category\",\n        \"num_unique_values\": 1,\n        \"samples\": [\n          \"NO_QUERY\"\n        ],\n        \"semantic_type\": \"\",\n        \"description\": \"\"\n      }\n    },\n    {\n      \"column\": \"user\",\n      \"properties\": {\n        \"dtype\": \"string\",\n        \"num_unique_values\": 18106,\n        \"samples\": [\n          \"1SEJAL1\"\n        ],\n        \"semantic_type\": \"\",\n        \"description\": \"\"\n      }\n    },\n    {\n      \"column\": \"text\",\n      \"properties\": {\n        \"dtype\": \"string\",\n        \"num_unique_values\": 19953,\n        \"samples\": [\n          \"Why amen't I eating proper food? I feel ill now \"\n        ],\n        \"semantic_type\": \"\",\n        \"description\": \"\"\n      }\n    },\n    {\n      \"column\": \"Day of Week\",\n      \"properties\": {\n        \"dtype\": \"category\",\n        \"num_unique_values\": 4,\n        \"samples\": [\n          \"Tuesday\"\n        ],\n        \"semantic_type\": \"\",\n        \"description\": \"\"\n      }\n    },\n    {\n      \"column\": \"Hour\",\n      \"properties\": {\n        \"dtype\": \"int32\",\n        \"num_unique_values\": 13,\n        \"samples\": [\n          20\n        ],\n        \"semantic_type\": \"\",\n        \"description\": \"\"\n      }\n    },\n    {\n      \"column\": \"Cleaned Tweets\",\n      \"properties\": {\n        \"dtype\": \"string\",\n        \"num_unique_values\": 19761,\n        \"samples\": [\n          \"strawberry novelty worn theres many one eat dip chocolate however\"\n        ],\n        \"semantic_type\": \"\",\n        \"description\": \"\"\n      }\n    }\n  ]\n}"
            }
          },
          "metadata": {},
          "execution_count": 106
        }
      ],
      "source": [
        "data.head()"
      ]
    },
    {
      "cell_type": "code",
      "execution_count": 107,
      "id": "d7b89c46-ee22-48f0-bdc2-bc6ad2da43b6",
      "metadata": {
        "id": "d7b89c46-ee22-48f0-bdc2-bc6ad2da43b6",
        "outputId": "e57e7e01-0c98-4193-8fe1-2a7896794fe0",
        "colab": {
          "base_uri": "https://localhost:8080/"
        }
      },
      "outputs": [
        {
          "output_type": "stream",
          "name": "stdout",
          "text": [
            "Data Shape: (20000, 8)\n"
          ]
        }
      ],
      "source": [
        "# 3. Data Inspection\n",
        "print(\"Data Shape:\", data.shape)\n"
      ]
    },
    {
      "cell_type": "code",
      "execution_count": 108,
      "id": "4b2c839e-ebee-40ef-aa94-1802fee9dd33",
      "metadata": {
        "id": "4b2c839e-ebee-40ef-aa94-1802fee9dd33",
        "outputId": "b994117c-f8dd-4fc5-d6f0-fa86a9370fd9",
        "colab": {
          "base_uri": "https://localhost:8080/"
        }
      },
      "outputs": [
        {
          "output_type": "stream",
          "name": "stdout",
          "text": [
            "<class 'pandas.core.frame.DataFrame'>\n",
            "Index: 20000 entries, 0 to 1599999\n",
            "Data columns (total 8 columns):\n",
            " #   Column          Non-Null Count  Dtype \n",
            "---  ------          --------------  ----- \n",
            " 0   target          20000 non-null  int64 \n",
            " 1   ids             20000 non-null  int64 \n",
            " 2   flag            20000 non-null  object\n",
            " 3   user            20000 non-null  object\n",
            " 4   text            20000 non-null  object\n",
            " 5   Day of Week     20000 non-null  object\n",
            " 6   Hour            20000 non-null  int32 \n",
            " 7   Cleaned Tweets  20000 non-null  object\n",
            "dtypes: int32(1), int64(2), object(5)\n",
            "memory usage: 1.3+ MB\n",
            "Data Info:\n",
            " None\n"
          ]
        }
      ],
      "source": [
        "print(\"Data Info:\\n\", data.info())\n"
      ]
    },
    {
      "cell_type": "code",
      "execution_count": 109,
      "id": "dc089e48-421a-42e4-ab54-d2d8e89f683d",
      "metadata": {
        "id": "dc089e48-421a-42e4-ab54-d2d8e89f683d",
        "outputId": "bda5382d-6065-46fd-d144-17f135244a76",
        "colab": {
          "base_uri": "https://localhost:8080/"
        }
      },
      "outputs": [
        {
          "output_type": "stream",
          "name": "stdout",
          "text": [
            "Missing Values:\n",
            " target            0\n",
            "ids               0\n",
            "flag              0\n",
            "user              0\n",
            "text              0\n",
            "Day of Week       0\n",
            "Hour              0\n",
            "Cleaned Tweets    0\n",
            "dtype: int64\n"
          ]
        }
      ],
      "source": [
        "print(\"Missing Values:\\n\", data.isnull().sum())"
      ]
    },
    {
      "cell_type": "code",
      "execution_count": 110,
      "id": "e8bd7acd-2902-41b4-86ae-5ebe789b087b",
      "metadata": {
        "id": "e8bd7acd-2902-41b4-86ae-5ebe789b087b"
      },
      "outputs": [],
      "source": [
        "# 4. Data Preparation\n",
        "# Dropping unnecessary columns\n",
        "data = data.drop(['ids','text', 'flag', 'user'], axis=1)"
      ]
    },
    {
      "cell_type": "code",
      "execution_count": 112,
      "id": "50820ded-2c18-44d6-8893-cfb09b472b65",
      "metadata": {
        "id": "50820ded-2c18-44d6-8893-cfb09b472b65",
        "outputId": "bbcceb64-8ca4-4063-f494-0cdc97915afb",
        "colab": {
          "base_uri": "https://localhost:8080/",
          "height": 206
        }
      },
      "outputs": [
        {
          "output_type": "execute_result",
          "data": {
            "text/plain": [
              "   target Day of Week  Hour                                     Cleaned Tweets\n",
              "0       0      Monday    22  switchfoot awww thats bummer shoulda got david...\n",
              "1       0      Monday    22  upset cant update facebook texting might cry r...\n",
              "2       0      Monday    22  kenichan dived many times ball managed save re...\n",
              "3       0      Monday    22                   whole body feels itchy like fire\n",
              "4       0      Monday    22           nationwideclass behaving im mad cant see"
            ],
            "text/html": [
              "\n",
              "  <div id=\"df-74bf91c1-1cc0-4ea4-a948-f79011992482\" class=\"colab-df-container\">\n",
              "    <div>\n",
              "<style scoped>\n",
              "    .dataframe tbody tr th:only-of-type {\n",
              "        vertical-align: middle;\n",
              "    }\n",
              "\n",
              "    .dataframe tbody tr th {\n",
              "        vertical-align: top;\n",
              "    }\n",
              "\n",
              "    .dataframe thead th {\n",
              "        text-align: right;\n",
              "    }\n",
              "</style>\n",
              "<table border=\"1\" class=\"dataframe\">\n",
              "  <thead>\n",
              "    <tr style=\"text-align: right;\">\n",
              "      <th></th>\n",
              "      <th>target</th>\n",
              "      <th>Day of Week</th>\n",
              "      <th>Hour</th>\n",
              "      <th>Cleaned Tweets</th>\n",
              "    </tr>\n",
              "  </thead>\n",
              "  <tbody>\n",
              "    <tr>\n",
              "      <th>0</th>\n",
              "      <td>0</td>\n",
              "      <td>Monday</td>\n",
              "      <td>22</td>\n",
              "      <td>switchfoot awww thats bummer shoulda got david...</td>\n",
              "    </tr>\n",
              "    <tr>\n",
              "      <th>1</th>\n",
              "      <td>0</td>\n",
              "      <td>Monday</td>\n",
              "      <td>22</td>\n",
              "      <td>upset cant update facebook texting might cry r...</td>\n",
              "    </tr>\n",
              "    <tr>\n",
              "      <th>2</th>\n",
              "      <td>0</td>\n",
              "      <td>Monday</td>\n",
              "      <td>22</td>\n",
              "      <td>kenichan dived many times ball managed save re...</td>\n",
              "    </tr>\n",
              "    <tr>\n",
              "      <th>3</th>\n",
              "      <td>0</td>\n",
              "      <td>Monday</td>\n",
              "      <td>22</td>\n",
              "      <td>whole body feels itchy like fire</td>\n",
              "    </tr>\n",
              "    <tr>\n",
              "      <th>4</th>\n",
              "      <td>0</td>\n",
              "      <td>Monday</td>\n",
              "      <td>22</td>\n",
              "      <td>nationwideclass behaving im mad cant see</td>\n",
              "    </tr>\n",
              "  </tbody>\n",
              "</table>\n",
              "</div>\n",
              "    <div class=\"colab-df-buttons\">\n",
              "\n",
              "  <div class=\"colab-df-container\">\n",
              "    <button class=\"colab-df-convert\" onclick=\"convertToInteractive('df-74bf91c1-1cc0-4ea4-a948-f79011992482')\"\n",
              "            title=\"Convert this dataframe to an interactive table.\"\n",
              "            style=\"display:none;\">\n",
              "\n",
              "  <svg xmlns=\"http://www.w3.org/2000/svg\" height=\"24px\" viewBox=\"0 -960 960 960\">\n",
              "    <path d=\"M120-120v-720h720v720H120Zm60-500h600v-160H180v160Zm220 220h160v-160H400v160Zm0 220h160v-160H400v160ZM180-400h160v-160H180v160Zm440 0h160v-160H620v160ZM180-180h160v-160H180v160Zm440 0h160v-160H620v160Z\"/>\n",
              "  </svg>\n",
              "    </button>\n",
              "\n",
              "  <style>\n",
              "    .colab-df-container {\n",
              "      display:flex;\n",
              "      gap: 12px;\n",
              "    }\n",
              "\n",
              "    .colab-df-convert {\n",
              "      background-color: #E8F0FE;\n",
              "      border: none;\n",
              "      border-radius: 50%;\n",
              "      cursor: pointer;\n",
              "      display: none;\n",
              "      fill: #1967D2;\n",
              "      height: 32px;\n",
              "      padding: 0 0 0 0;\n",
              "      width: 32px;\n",
              "    }\n",
              "\n",
              "    .colab-df-convert:hover {\n",
              "      background-color: #E2EBFA;\n",
              "      box-shadow: 0px 1px 2px rgba(60, 64, 67, 0.3), 0px 1px 3px 1px rgba(60, 64, 67, 0.15);\n",
              "      fill: #174EA6;\n",
              "    }\n",
              "\n",
              "    .colab-df-buttons div {\n",
              "      margin-bottom: 4px;\n",
              "    }\n",
              "\n",
              "    [theme=dark] .colab-df-convert {\n",
              "      background-color: #3B4455;\n",
              "      fill: #D2E3FC;\n",
              "    }\n",
              "\n",
              "    [theme=dark] .colab-df-convert:hover {\n",
              "      background-color: #434B5C;\n",
              "      box-shadow: 0px 1px 3px 1px rgba(0, 0, 0, 0.15);\n",
              "      filter: drop-shadow(0px 1px 2px rgba(0, 0, 0, 0.3));\n",
              "      fill: #FFFFFF;\n",
              "    }\n",
              "  </style>\n",
              "\n",
              "    <script>\n",
              "      const buttonEl =\n",
              "        document.querySelector('#df-74bf91c1-1cc0-4ea4-a948-f79011992482 button.colab-df-convert');\n",
              "      buttonEl.style.display =\n",
              "        google.colab.kernel.accessAllowed ? 'block' : 'none';\n",
              "\n",
              "      async function convertToInteractive(key) {\n",
              "        const element = document.querySelector('#df-74bf91c1-1cc0-4ea4-a948-f79011992482');\n",
              "        const dataTable =\n",
              "          await google.colab.kernel.invokeFunction('convertToInteractive',\n",
              "                                                    [key], {});\n",
              "        if (!dataTable) return;\n",
              "\n",
              "        const docLinkHtml = 'Like what you see? Visit the ' +\n",
              "          '<a target=\"_blank\" href=https://colab.research.google.com/notebooks/data_table.ipynb>data table notebook</a>'\n",
              "          + ' to learn more about interactive tables.';\n",
              "        element.innerHTML = '';\n",
              "        dataTable['output_type'] = 'display_data';\n",
              "        await google.colab.output.renderOutput(dataTable, element);\n",
              "        const docLink = document.createElement('div');\n",
              "        docLink.innerHTML = docLinkHtml;\n",
              "        element.appendChild(docLink);\n",
              "      }\n",
              "    </script>\n",
              "  </div>\n",
              "\n",
              "\n",
              "<div id=\"df-7c16ac84-8745-452c-98c0-41f093c6272e\">\n",
              "  <button class=\"colab-df-quickchart\" onclick=\"quickchart('df-7c16ac84-8745-452c-98c0-41f093c6272e')\"\n",
              "            title=\"Suggest charts\"\n",
              "            style=\"display:none;\">\n",
              "\n",
              "<svg xmlns=\"http://www.w3.org/2000/svg\" height=\"24px\"viewBox=\"0 0 24 24\"\n",
              "     width=\"24px\">\n",
              "    <g>\n",
              "        <path d=\"M19 3H5c-1.1 0-2 .9-2 2v14c0 1.1.9 2 2 2h14c1.1 0 2-.9 2-2V5c0-1.1-.9-2-2-2zM9 17H7v-7h2v7zm4 0h-2V7h2v10zm4 0h-2v-4h2v4z\"/>\n",
              "    </g>\n",
              "</svg>\n",
              "  </button>\n",
              "\n",
              "<style>\n",
              "  .colab-df-quickchart {\n",
              "      --bg-color: #E8F0FE;\n",
              "      --fill-color: #1967D2;\n",
              "      --hover-bg-color: #E2EBFA;\n",
              "      --hover-fill-color: #174EA6;\n",
              "      --disabled-fill-color: #AAA;\n",
              "      --disabled-bg-color: #DDD;\n",
              "  }\n",
              "\n",
              "  [theme=dark] .colab-df-quickchart {\n",
              "      --bg-color: #3B4455;\n",
              "      --fill-color: #D2E3FC;\n",
              "      --hover-bg-color: #434B5C;\n",
              "      --hover-fill-color: #FFFFFF;\n",
              "      --disabled-bg-color: #3B4455;\n",
              "      --disabled-fill-color: #666;\n",
              "  }\n",
              "\n",
              "  .colab-df-quickchart {\n",
              "    background-color: var(--bg-color);\n",
              "    border: none;\n",
              "    border-radius: 50%;\n",
              "    cursor: pointer;\n",
              "    display: none;\n",
              "    fill: var(--fill-color);\n",
              "    height: 32px;\n",
              "    padding: 0;\n",
              "    width: 32px;\n",
              "  }\n",
              "\n",
              "  .colab-df-quickchart:hover {\n",
              "    background-color: var(--hover-bg-color);\n",
              "    box-shadow: 0 1px 2px rgba(60, 64, 67, 0.3), 0 1px 3px 1px rgba(60, 64, 67, 0.15);\n",
              "    fill: var(--button-hover-fill-color);\n",
              "  }\n",
              "\n",
              "  .colab-df-quickchart-complete:disabled,\n",
              "  .colab-df-quickchart-complete:disabled:hover {\n",
              "    background-color: var(--disabled-bg-color);\n",
              "    fill: var(--disabled-fill-color);\n",
              "    box-shadow: none;\n",
              "  }\n",
              "\n",
              "  .colab-df-spinner {\n",
              "    border: 2px solid var(--fill-color);\n",
              "    border-color: transparent;\n",
              "    border-bottom-color: var(--fill-color);\n",
              "    animation:\n",
              "      spin 1s steps(1) infinite;\n",
              "  }\n",
              "\n",
              "  @keyframes spin {\n",
              "    0% {\n",
              "      border-color: transparent;\n",
              "      border-bottom-color: var(--fill-color);\n",
              "      border-left-color: var(--fill-color);\n",
              "    }\n",
              "    20% {\n",
              "      border-color: transparent;\n",
              "      border-left-color: var(--fill-color);\n",
              "      border-top-color: var(--fill-color);\n",
              "    }\n",
              "    30% {\n",
              "      border-color: transparent;\n",
              "      border-left-color: var(--fill-color);\n",
              "      border-top-color: var(--fill-color);\n",
              "      border-right-color: var(--fill-color);\n",
              "    }\n",
              "    40% {\n",
              "      border-color: transparent;\n",
              "      border-right-color: var(--fill-color);\n",
              "      border-top-color: var(--fill-color);\n",
              "    }\n",
              "    60% {\n",
              "      border-color: transparent;\n",
              "      border-right-color: var(--fill-color);\n",
              "    }\n",
              "    80% {\n",
              "      border-color: transparent;\n",
              "      border-right-color: var(--fill-color);\n",
              "      border-bottom-color: var(--fill-color);\n",
              "    }\n",
              "    90% {\n",
              "      border-color: transparent;\n",
              "      border-bottom-color: var(--fill-color);\n",
              "    }\n",
              "  }\n",
              "</style>\n",
              "\n",
              "  <script>\n",
              "    async function quickchart(key) {\n",
              "      const quickchartButtonEl =\n",
              "        document.querySelector('#' + key + ' button');\n",
              "      quickchartButtonEl.disabled = true;  // To prevent multiple clicks.\n",
              "      quickchartButtonEl.classList.add('colab-df-spinner');\n",
              "      try {\n",
              "        const charts = await google.colab.kernel.invokeFunction(\n",
              "            'suggestCharts', [key], {});\n",
              "      } catch (error) {\n",
              "        console.error('Error during call to suggestCharts:', error);\n",
              "      }\n",
              "      quickchartButtonEl.classList.remove('colab-df-spinner');\n",
              "      quickchartButtonEl.classList.add('colab-df-quickchart-complete');\n",
              "    }\n",
              "    (() => {\n",
              "      let quickchartButtonEl =\n",
              "        document.querySelector('#df-7c16ac84-8745-452c-98c0-41f093c6272e button');\n",
              "      quickchartButtonEl.style.display =\n",
              "        google.colab.kernel.accessAllowed ? 'block' : 'none';\n",
              "    })();\n",
              "  </script>\n",
              "</div>\n",
              "\n",
              "    </div>\n",
              "  </div>\n"
            ],
            "application/vnd.google.colaboratory.intrinsic+json": {
              "type": "dataframe",
              "variable_name": "data",
              "summary": "{\n  \"name\": \"data\",\n  \"rows\": 20000,\n  \"fields\": [\n    {\n      \"column\": \"target\",\n      \"properties\": {\n        \"dtype\": \"number\",\n        \"std\": 2,\n        \"min\": 0,\n        \"max\": 4,\n        \"num_unique_values\": 2,\n        \"samples\": [\n          4,\n          0\n        ],\n        \"semantic_type\": \"\",\n        \"description\": \"\"\n      }\n    },\n    {\n      \"column\": \"Day of Week\",\n      \"properties\": {\n        \"dtype\": \"category\",\n        \"num_unique_values\": 4,\n        \"samples\": [\n          \"Tuesday\",\n          \"Saturday\"\n        ],\n        \"semantic_type\": \"\",\n        \"description\": \"\"\n      }\n    },\n    {\n      \"column\": \"Hour\",\n      \"properties\": {\n        \"dtype\": \"int32\",\n        \"num_unique_values\": 13,\n        \"samples\": [\n          20,\n          7\n        ],\n        \"semantic_type\": \"\",\n        \"description\": \"\"\n      }\n    },\n    {\n      \"column\": \"Cleaned Tweets\",\n      \"properties\": {\n        \"dtype\": \"string\",\n        \"num_unique_values\": 19761,\n        \"samples\": [\n          \"strawberry novelty worn theres many one eat dip chocolate however\",\n          \"seeing shouldnt made stomach flip like\"\n        ],\n        \"semantic_type\": \"\",\n        \"description\": \"\"\n      }\n    }\n  ]\n}"
            }
          },
          "metadata": {},
          "execution_count": 112
        }
      ],
      "source": [
        "data.head()"
      ]
    },
    {
      "cell_type": "code",
      "execution_count": 113,
      "id": "6dbf28d6-4389-4bd5-b1f7-e1875fa77475",
      "metadata": {
        "id": "6dbf28d6-4389-4bd5-b1f7-e1875fa77475",
        "outputId": "faee9ef1-7b91-4a10-a2d4-076f1fa58051",
        "colab": {
          "base_uri": "https://localhost:8080/"
        }
      },
      "outputs": [
        {
          "output_type": "stream",
          "name": "stdout",
          "text": [
            "Data Description:\n",
            "             target          Hour\n",
            "count  20000.00000  20000.000000\n",
            "mean       2.00000      7.596000\n",
            "std        2.00005      5.961985\n",
            "min        0.00000      0.000000\n",
            "25%        0.00000      5.000000\n",
            "50%        2.00000      6.000000\n",
            "75%        4.00000      8.000000\n",
            "max        4.00000     23.000000\n"
          ]
        }
      ],
      "source": [
        "# 5. Exploratory Data Analysis (EDA)\n",
        "# Basic statistics\n",
        "print(\"Data Description:\\n\", data.describe())"
      ]
    },
    {
      "cell_type": "code",
      "execution_count": 115,
      "id": "64755459-89c3-4455-8539-7ca343499209",
      "metadata": {
        "id": "64755459-89c3-4455-8539-7ca343499209",
        "outputId": "d796d851-5293-4ac7-f300-3e4785a1f641",
        "colab": {
          "base_uri": "https://localhost:8080/",
          "height": 1000
        }
      },
      "outputs": [
        {
          "output_type": "display_data",
          "data": {
            "text/plain": [
              "<Figure size 1200x600 with 1 Axes>"
            ],
            "image/png": "[encoded data removed]"
          },
          "metadata": {}
        },
        {
          "output_type": "display_data",
          "data": {
            "text/plain": [
              "<Figure size 1200x600 with 1 Axes>"
            ],
            "image/png": "[encoded data removed]"
          },
          "metadata": {}
        }
      ],
      "source": [
        "\n",
        "# Time series plots of tweet activity by hour and day of the week\n",
        "plt.figure(figsize=(12, 6))\n",
        "\n",
        "# Histogram of tweet frequencies by Day\n",
        "\n",
        "sns.histplot(data['Day of Week'], kde=False)\n",
        "plt.title('Distribution of Tweet Frequencies by Day of Week')\n",
        "plt.xlabel('Day of the Week')\n",
        "plt.ylabel('Frequency')\n",
        "\n",
        "\n",
        "plt.show()\n",
        "\n",
        "# Histogram of tweet frequencies by hour\n",
        "plt.figure(figsize=(12, 6))\n",
        "sns.histplot(data['Hour'], bins=24, kde=False)\n",
        "plt.title('Distribution of Tweet Frequencies by Hour')\n",
        "plt.xlabel('Hour of the Day')\n",
        "plt.ylabel('Frequency')\n",
        "plt.xticks(range(24))\n",
        "\n",
        "plt.show()"
      ]
    },
    {
      "cell_type": "code",
      "execution_count": 116,
      "id": "b54d3fe8-6859-4ad3-8c82-f1aa3e047157",
      "metadata": {
        "id": "b54d3fe8-6859-4ad3-8c82-f1aa3e047157",
        "outputId": "3af8cb2d-609d-41da-c577-48977cd9abbb",
        "colab": {
          "base_uri": "https://localhost:8080/",
          "height": 507
        }
      },
      "outputs": [
        {
          "output_type": "display_data",
          "data": {
            "text/plain": [
              "<Figure size 1200x500 with 1 Axes>"
            ],
            "image/png": "[encoded data removed]"
          },
          "metadata": {}
        }
      ],
      "source": [
        "# Time series plots of tweet activity by hour and day of the week\n",
        "plt.figure(figsize=(12, 5))\n",
        "\n",
        "# Tweet activity by hour\n",
        "plt.subplot(1, 2, 1)\n",
        "hourly_activity = data['Hour'].value_counts().sort_index()\n",
        "hourly_activity.plot(kind='line')\n",
        "plt.title('Tweet Activity by Hour')\n",
        "plt.xlabel('Hour of the Day')\n",
        "plt.ylabel('Number of Tweets')\n",
        "plt.grid(True)\n",
        "\n",
        "\n",
        "plt.tight_layout()\n",
        "plt.show()"
      ]
    },
    {
      "cell_type": "code",
      "execution_count": 117,
      "id": "3087fab9-829e-4a48-8df8-8f3e1a13faf2",
      "metadata": {
        "id": "3087fab9-829e-4a48-8df8-8f3e1a13faf2",
        "outputId": "0a688053-c3e4-448b-a1ac-05930e7aee5e",
        "colab": {
          "base_uri": "https://localhost:8080/",
          "height": 564
        }
      },
      "outputs": [
        {
          "output_type": "display_data",
          "data": {
            "text/plain": [
              "<Figure size 1000x600 with 1 Axes>"
            ],
            "image/png": "[encoded data removed]"
          },
          "metadata": {}
        }
      ],
      "source": [
        "# Bar plot of sentiment distribution\n",
        "plt.figure(figsize=(10, 6))\n",
        "sns.countplot(x='target', hue='target', data=data, palette='viridis', dodge=False, legend=False)\n",
        "plt.title('Distribution of Sentiment')\n",
        "plt.xlabel('Sentiment')\n",
        "plt.ylabel('Count')\n",
        "\n",
        "plt.show()"
      ]
    },
    {
      "cell_type": "code",
      "execution_count": 78,
      "id": "01e4781c-ab2e-4079-9741-a22aed6e105d",
      "metadata": {
        "id": "01e4781c-ab2e-4079-9741-a22aed6e105d",
        "outputId": "d715c8f1-36cf-4494-93f3-6f499aeb2fe0",
        "colab": {
          "base_uri": "https://localhost:8080/"
        }
      },
      "outputs": [
        {
          "output_type": "execute_result",
          "data": {
            "text/plain": [
              "array([0, 4])"
            ]
          },
          "metadata": {},
          "execution_count": 78
        }
      ],
      "source": [
        "data['target'].unique()"
      ]
    },
    {
      "cell_type": "code",
      "execution_count": 78,
      "id": "71b43650-7fe9-4e5d-9106-84f92aebfcf5",
      "metadata": {
        "id": "71b43650-7fe9-4e5d-9106-84f92aebfcf5"
      },
      "outputs": [],
      "source": []
    },
    {
      "cell_type": "code",
      "execution_count": 80,
      "id": "a568c467-398e-4920-bc4a-4d7f57529a78",
      "metadata": {
        "id": "a568c467-398e-4920-bc4a-4d7f57529a78"
      },
      "outputs": [],
      "source": [
        "data['Day of Week'] = data['Day of Week'].map(\n",
        "    {\n",
        "        'Monday':10,\n",
        "        'Tuesday':20,\n",
        "        'Wednesday':30,\n",
        "        'Thursday':40,\n",
        "        'Friday':50,\n",
        "        'Saturday':60,\n",
        "        'Sunday':70,\n",
        "\n",
        "    }\n",
        ")"
      ]
    },
    {
      "cell_type": "code",
      "execution_count": null,
      "id": "60f4c0f4-5182-4a68-8eb1-300128d1c8a9",
      "metadata": {
        "id": "60f4c0f4-5182-4a68-8eb1-300128d1c8a9"
      },
      "outputs": [],
      "source": []
    },
    {
      "cell_type": "code",
      "execution_count": 81,
      "id": "b9ea033f-0ba9-40b6-aa20-cbc73cb35aa7",
      "metadata": {
        "id": "b9ea033f-0ba9-40b6-aa20-cbc73cb35aa7"
      },
      "outputs": [],
      "source": [
        "# 7. Feature Selection\n",
        "# TF-IDF Vectorization for text data\n",
        "tfidf = TfidfVectorizer()\n",
        "X = tfidf.fit_transform(data['Cleaned Tweets'])"
      ]
    },
    {
      "cell_type": "code",
      "execution_count": 82,
      "id": "dc5ca55f-954a-4142-a152-1b22db138555",
      "metadata": {
        "id": "dc5ca55f-954a-4142-a152-1b22db138555"
      },
      "outputs": [],
      "source": [
        "y = data['target']"
      ]
    },
    {
      "cell_type": "code",
      "execution_count": 83,
      "id": "45cb99b5-ae05-40c4-9875-d0336aad3d9d",
      "metadata": {
        "id": "45cb99b5-ae05-40c4-9875-d0336aad3d9d"
      },
      "outputs": [],
      "source": [
        "\n",
        "\n",
        "X_train, X_test, y_train, y_test = train_test_split(X, y, test_size=0.2, random_state=42)\n",
        "\n"
      ]
    },
    {
      "cell_type": "code",
      "execution_count": 84,
      "id": "ed413660-ff33-4ccd-814d-3a6dff57e8d6",
      "metadata": {
        "id": "ed413660-ff33-4ccd-814d-3a6dff57e8d6",
        "outputId": "28290e92-a20a-4fec-815e-3e2e81ac7e0f",
        "colab": {
          "base_uri": "https://localhost:8080/"
        }
      },
      "outputs": [
        {
          "output_type": "stream",
          "name": "stdout",
          "text": [
            "Gradient Boosting Model Evaluation:\n",
            "              precision    recall  f1-score   support\n",
            "\n",
            "           0       0.80      0.48      0.60      2019\n",
            "           4       0.63      0.88      0.73      1981\n",
            "\n",
            "    accuracy                           0.68      4000\n",
            "   macro avg       0.72      0.68      0.67      4000\n",
            "weighted avg       0.72      0.68      0.67      4000\n",
            "\n",
            "[[ 976 1043]\n",
            " [ 237 1744]]\n",
            "Accuracy: 0.68\n"
          ]
        }
      ],
      "source": [
        "# Initialize the model\n",
        "gb_model = GradientBoostingClassifier(n_estimators=100, learning_rate=1.0, max_depth=1, random_state=42)\n",
        "\n",
        "# Train the model\n",
        "gb_model.fit(X_train, y_train)\n",
        "\n",
        "# Make predictions\n",
        "y_pred_gb = gb_model.predict(X_test)\n",
        "\n",
        "# Evaluate the model\n",
        "print(\"Gradient Boosting Model Evaluation:\")\n",
        "print(classification_report(y_test, y_pred_gb))\n",
        "print(confusion_matrix(y_test, y_pred_gb))\n",
        "print(\"Accuracy:\", accuracy_score(y_test, y_pred_gb))"
      ]
    },
    {
      "cell_type": "code",
      "execution_count": 118,
      "id": "83864dfb-cc49-448d-aac2-fa5e73018fb2",
      "metadata": {
        "id": "83864dfb-cc49-448d-aac2-fa5e73018fb2",
        "outputId": "ee44f76b-13e9-4448-b5f2-899c2e910e93",
        "colab": {
          "base_uri": "https://localhost:8080/"
        }
      },
      "outputs": [
        {
          "output_type": "stream",
          "name": "stdout",
          "text": [
            "Random Forest Model Evaluation:\n",
            "              precision    recall  f1-score   support\n",
            "\n",
            "           0       0.78      0.69      0.73      2019\n",
            "           4       0.72      0.80      0.76      1981\n",
            "\n",
            "    accuracy                           0.74      4000\n",
            "   macro avg       0.75      0.75      0.74      4000\n",
            "weighted avg       0.75      0.74      0.74      4000\n",
            "\n",
            "[[1391  628]\n",
            " [ 393 1588]]\n",
            "Accuracy: 0.74475\n"
          ]
        }
      ],
      "source": [
        "rf_model = RandomForestClassifier(n_estimators=100, random_state=42)\n",
        "rf_model.fit(X_train,y_train)\n",
        "# Make predictions\n",
        "y_pred_rf = rf_model.predict(X_test)\n",
        "\n",
        "# Evaluate the model\n",
        "print(\"Random Forest Model Evaluation:\")\n",
        "print(classification_report(y_test, y_pred_rf))\n",
        "print(confusion_matrix(y_test, y_pred_rf))\n",
        "print(\"Accuracy:\", accuracy_score(y_test, y_pred_rf))"
      ]
    }
  ],
  "metadata": {
    "kernelspec": {
      "display_name": "Python 3 (ipykernel)",
      "language": "python",
      "name": "python3"
    },
    "language_info": {
      "codemirror_mode": {
        "name": "ipython",
        "version": 3
      },
      "file_extension": ".py",
      "mimetype": "text/x-python",
      "name": "python",
      "nbconvert_exporter": "python",
      "pygments_lexer": "ipython3",
      "version": "3.10.12"
    },
    "colab": {
      "provenance": [],
      "include_colab_link": true
    }
  },
  "nbformat": 4,
  "nbformat_minor": 5
}